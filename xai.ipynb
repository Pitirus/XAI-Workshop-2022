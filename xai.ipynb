{
 "cells": [
  {
   "cell_type": "markdown",
   "id": "53cf2ad8-2100-40d7-b20d-1770e34f9946",
   "metadata": {},
   "source": [
    "Contact author via [LinkedIn](http://piomazur.pl/linkedin) or [Github](http://piomazur.pl/github)"
   ]
  },
  {
   "cell_type": "code",
   "execution_count": null,
   "id": "463e1b6c-b362-44a0-b778-a0280de66e45",
   "metadata": {
    "tags": []
   },
   "outputs": [],
   "source": [
    "%load_ext lab_black\n",
    "%load_ext autoreload\n",
    "%autoreload 2"
   ]
  },
  {
   "cell_type": "code",
   "execution_count": null,
   "id": "947e6c25-68f5-46cb-8f10-f05cf95f51d3",
   "metadata": {
    "tags": []
   },
   "outputs": [],
   "source": [
    "import json\n",
    "\n",
    "import datasets\n",
    "import lightgbm as lgb\n",
    "import matplotlib.pyplot as plt\n",
    "import numpy as np\n",
    "import pandas as pd\n",
    "import shap\n",
    "import transformers\n",
    "import torch\n",
    "import torchvision\n",
    "from sklearn.metrics import mean_absolute_error\n",
    "from sklearn.model_selection import train_test_split\n",
    "\n",
    "shap.initjs()"
   ]
  },
  {
   "cell_type": "code",
   "execution_count": null,
   "id": "a5025383-dc3c-4f69-8b98-dfc58e0d86d1",
   "metadata": {},
   "outputs": [],
   "source": [
    "pd.options.display.max_colwidth = 300"
   ]
  },
  {
   "cell_type": "markdown",
   "id": "83894644-2f7c-4705-bbd1-ab10bfd81004",
   "metadata": {
    "jp-MarkdownHeadingCollapsed": true,
    "tags": []
   },
   "source": [
    "# Data & models setup"
   ]
  },
  {
   "cell_type": "markdown",
   "id": "6a4f28af-32a9-4c95-9bd8-1956c3f9f666",
   "metadata": {
    "tags": []
   },
   "source": [
    "## Data"
   ]
  },
  {
   "cell_type": "markdown",
   "id": "74f35ee7-6fc5-488b-aa6d-c7e78edb8a79",
   "metadata": {
    "tags": []
   },
   "source": [
    "### Read & show dataset"
   ]
  },
  {
   "cell_type": "code",
   "execution_count": null,
   "id": "b1bcce95-56df-4419-ba03-e3cdd86714de",
   "metadata": {
    "tags": []
   },
   "outputs": [],
   "source": [
    "taxi_df = pd.read_csv(\"data/taxi_out_2020.csv.zip\", compression=\"zip\")\n",
    "taxi_df"
   ]
  },
  {
   "cell_type": "markdown",
   "id": "bc71fe5f-caf4-4522-8446-9f4f86ec3c24",
   "metadata": {
    "tags": []
   },
   "source": [
    "### Convert categorical features"
   ]
  },
  {
   "cell_type": "code",
   "execution_count": null,
   "id": "cc4d0bb9-4652-41c2-ba38-aa05b1c172d5",
   "metadata": {
    "tags": []
   },
   "outputs": [],
   "source": [
    "categorical_features = [\n",
    "    \"OriginIcao\",\n",
    "    \"DestIcao\",\n",
    "    \"AirlineIcao\",\n",
    "    \"DepHourLocal\",\n",
    "    \"DepWeekdayLocal\",\n",
    "    \"DepMonthLocal\",\n",
    "]\n",
    "taxi_df[categorical_features] = taxi_df[categorical_features].apply(\n",
    "    lambda x: x.astype(\"category\")\n",
    ")"
   ]
  },
  {
   "cell_type": "markdown",
   "id": "ec8c03c1-6dcb-4857-a4ac-8528a65c0dcf",
   "metadata": {
    "tags": []
   },
   "source": [
    "### Prepare features & target"
   ]
  },
  {
   "cell_type": "code",
   "execution_count": null,
   "id": "89654f8d-fbc1-475b-8c43-925d63e14656",
   "metadata": {
    "tags": []
   },
   "outputs": [],
   "source": [
    "# Prepare X & y\n",
    "X = taxi_df.drop(columns=[\"TaxiOut\", \"DepDateTimeUTC\"])\n",
    "y = taxi_df.TaxiOut\n",
    "\n",
    "# Split dataset\n",
    "X_train, X_val, y_train, y_val = train_test_split(X, y, test_size=0.1, shuffle=False)"
   ]
  },
  {
   "cell_type": "markdown",
   "id": "a9c87db2-6d10-4c9f-a151-a3a04e0c1444",
   "metadata": {
    "tags": []
   },
   "source": [
    "### Sample dataset"
   ]
  },
  {
   "cell_type": "code",
   "execution_count": null,
   "id": "f5230bca-ff74-4df5-b57b-474bca46939e",
   "metadata": {
    "tags": []
   },
   "outputs": [],
   "source": [
    "sample_size = 0.1\n",
    "X_test = X_val.sample(frac=sample_size)\n",
    "y_test = y_val[X_test.index].reset_index(drop=True)\n",
    "X_test = X_test.reset_index(drop=True)"
   ]
  },
  {
   "cell_type": "markdown",
   "id": "3caefa50-8624-4291-8bfa-c091e2307d4c",
   "metadata": {
    "execution": {
     "iopub.execute_input": "2022-05-12T15:27:25.995542Z",
     "iopub.status.busy": "2022-05-12T15:27:25.984844Z",
     "iopub.status.idle": "2022-05-12T15:27:26.002950Z",
     "shell.execute_reply": "2022-05-12T15:27:26.002217Z",
     "shell.execute_reply.started": "2022-05-12T15:27:25.994694Z"
    },
    "tags": []
   },
   "source": [
    "## Model"
   ]
  },
  {
   "cell_type": "markdown",
   "id": "50fb29bd-f998-4739-8046-5b74d24456ea",
   "metadata": {},
   "source": [
    "### Taxi prediction model"
   ]
  },
  {
   "cell_type": "code",
   "execution_count": null,
   "id": "6920c64b-ef8f-4dac-8dda-29da389ab0d0",
   "metadata": {
    "tags": []
   },
   "outputs": [],
   "source": [
    "model = lgb.Booster(model_file=\"taxi_model.txt\")\n",
    "model.params[\"objective\"] = \"regression\""
   ]
  },
  {
   "cell_type": "markdown",
   "id": "0c6b71d2-45f3-485b-b459-5d270ceb5675",
   "metadata": {},
   "source": [
    "## Image model"
   ]
  },
  {
   "cell_type": "code",
   "execution_count": null,
   "id": "a4d85b8a-8094-4401-ac90-847b910515ea",
   "metadata": {},
   "outputs": [],
   "source": [
    "image_model = torchvision.models.mobilenet_v3_small(pretrained=True).eval()"
   ]
  },
  {
   "cell_type": "markdown",
   "id": "f58c8ef6-45f8-43d9-bf48-80e58218b31c",
   "metadata": {},
   "source": [
    "## Text model"
   ]
  },
  {
   "cell_type": "code",
   "execution_count": null,
   "id": "f469e119-9a3c-4a08-b1b6-51a4e1d45701",
   "metadata": {},
   "outputs": [],
   "source": [
    "raw_text_model = transformers.AutoModelForSequenceClassification.from_pretrained(\n",
    "    \"nateraw/bert-base-uncased-emotion\"\n",
    ")\n",
    "text_tokenizer = transformers.AutoTokenizer.from_pretrained(\n",
    "    \"nateraw/bert-base-uncased-emotion\", use_fast=True\n",
    ")\n",
    "try:\n",
    "    raw_text_model = raw_text_model.cuda()\n",
    "except AssertionError:\n",
    "    print(\"Torch not compiled with CUDA enabled. Using CPU.\")\n",
    "    raw_text_model = raw_text_model.cpu()\n",
    "text_model = transformers.pipeline(\n",
    "    \"text-classification\",\n",
    "    model=raw_text_model,\n",
    "    tokenizer=text_tokenizer,\n",
    "    return_all_scores=True,\n",
    ")"
   ]
  },
  {
   "cell_type": "markdown",
   "id": "15bfb05e-48a8-4410-a5f4-b0beae7bf7d0",
   "metadata": {
    "jp-MarkdownHeadingCollapsed": true,
    "tags": []
   },
   "source": [
    "# Feature Importance"
   ]
  },
  {
   "cell_type": "markdown",
   "id": "aef5004b-ffbe-4117-847b-f426e97a115b",
   "metadata": {
    "tags": []
   },
   "source": [
    "## Permutation importance"
   ]
  },
  {
   "cell_type": "markdown",
   "id": "e6a07e1f-6314-4d4c-9b30-ae1f6fb87a42",
   "metadata": {},
   "source": [
    "### Calculate original error"
   ]
  },
  {
   "cell_type": "code",
   "execution_count": null,
   "id": "5e03c947-6c13-4e3c-a623-12fee41a99e5",
   "metadata": {},
   "outputs": [],
   "source": [
    "# Code here"
   ]
  },
  {
   "cell_type": "markdown",
   "id": "f469e875-d832-4473-833c-2f47f4382695",
   "metadata": {},
   "source": [
    "### Calculate permutation importance for feature OriginIcao"
   ]
  },
  {
   "cell_type": "code",
   "execution_count": null,
   "id": "744847c5-4864-4d57-ae80-b7ede3517a89",
   "metadata": {},
   "outputs": [],
   "source": [
    "# Code here\n",
    "\n",
    "# Choose your feature\n",
    "\n",
    "\n",
    "# Make a copy of your feature\n",
    "\n",
    "\n",
    "# Shuffle feature values\n",
    "\n",
    "\n",
    "# Predict & calculate new error\n",
    "\n",
    "\n",
    "# Restore feature to original form\n",
    "\n",
    "\n",
    "# Print error change\n"
   ]
  },
  {
   "cell_type": "markdown",
   "id": "1aa4010f-8925-452c-8200-8d791dba456c",
   "metadata": {},
   "source": [
    "### Implement method that calculates permutation importance for a feature specified through parameter"
   ]
  },
  {
   "cell_type": "code",
   "execution_count": null,
   "id": "d021adb7-e71a-4943-830c-f930583a7de0",
   "metadata": {},
   "outputs": [],
   "source": [
    "# Code here\n"
   ]
  },
  {
   "cell_type": "markdown",
   "id": "c0cbf44e-0c0f-4290-8b48-eb5342d88b70",
   "metadata": {},
   "source": [
    "### Calculate importances for all features"
   ]
  },
  {
   "cell_type": "code",
   "execution_count": null,
   "id": "708c17ac-75ca-4410-97f6-e2ce57bc5def",
   "metadata": {},
   "outputs": [],
   "source": [
    "# Code here\n"
   ]
  },
  {
   "cell_type": "markdown",
   "id": "bd14a2f6-c734-4ef4-bbdb-d7b3bd5a0a74",
   "metadata": {},
   "source": [
    "### Plot calculated permutation importances"
   ]
  },
  {
   "cell_type": "code",
   "execution_count": null,
   "id": "99fef1f1-d204-47f2-bdc0-a6ca23a810f3",
   "metadata": {},
   "outputs": [],
   "source": [
    "# Code here\n"
   ]
  },
  {
   "cell_type": "markdown",
   "id": "0cf478db-e3ca-4e0e-8986-c4a301d33fbd",
   "metadata": {
    "tags": []
   },
   "source": [
    "## Built-in feature importance"
   ]
  },
  {
   "cell_type": "markdown",
   "id": "04f7f919-5716-4179-801d-f6da08785ed8",
   "metadata": {},
   "source": [
    "### Plot feature importance using [lgb.plot_importance](https://lightgbm.readthedocs.io/en/latest/pythonapi/lightgbm.plot_importance.html) method"
   ]
  },
  {
   "cell_type": "code",
   "execution_count": null,
   "id": "e27c4205-e4c9-45de-972e-0b37ccf75f63",
   "metadata": {},
   "outputs": [],
   "source": [
    "# Code here\n"
   ]
  },
  {
   "cell_type": "markdown",
   "id": "a8365abc-966a-40d0-9917-a0cd0cf8fddc",
   "metadata": {},
   "source": [
    "### What importance type is being shown? Check others"
   ]
  },
  {
   "cell_type": "code",
   "execution_count": null,
   "id": "a2e236ad-508b-46b4-8647-f174fa9ec8ed",
   "metadata": {},
   "outputs": [],
   "source": [
    "# Code here\n"
   ]
  },
  {
   "cell_type": "markdown",
   "id": "e317d8b3-9956-428a-8e42-ca6a7c51d20c",
   "metadata": {
    "jp-MarkdownHeadingCollapsed": true,
    "tags": []
   },
   "source": [
    "# Partial Dependence Plots"
   ]
  },
  {
   "cell_type": "markdown",
   "id": "9757884b-2b76-4d46-a582-2624f8ead796",
   "metadata": {},
   "source": [
    "## Calculate partial dependence values for DepHourLocal"
   ]
  },
  {
   "cell_type": "code",
   "execution_count": null,
   "id": "d62709e9-bb05-439d-b045-aad51c23043b",
   "metadata": {},
   "outputs": [],
   "source": [
    "# Code here\n",
    "\n",
    "# Choose your feature\n",
    "\n",
    "\n",
    "# Make a copy of your feature\n",
    "\n",
    "\n",
    "# Prepare structure for holding results\n",
    "\n",
    "\n",
    "# Iterate over all possible values of column\n",
    "\n",
    "\n",
    "# Assign the new value to whole column\n",
    "\n",
    "\n",
    "# Predict\n",
    "\n",
    "\n",
    "# Calculate mean of predictions\n",
    "\n",
    "# END LOOP\n",
    "\n",
    "# Restore feature to original form\n"
   ]
  },
  {
   "cell_type": "markdown",
   "id": "c9c31028-1d78-4bfe-8b79-b0b86ee7a621",
   "metadata": {},
   "source": [
    "## Plot partial dependence"
   ]
  },
  {
   "cell_type": "code",
   "execution_count": null,
   "id": "b2d62f25-3bfb-474a-84bd-05f4768b61f7",
   "metadata": {},
   "outputs": [],
   "source": [
    "# Code here\n"
   ]
  },
  {
   "cell_type": "markdown",
   "id": "95c153b7-50bb-43c2-bb3e-e39dd27f89c9",
   "metadata": {
    "jp-MarkdownHeadingCollapsed": true,
    "tags": []
   },
   "source": [
    "# SHAP Values"
   ]
  },
  {
   "cell_type": "markdown",
   "id": "95c0990f-5eae-41dd-a5a9-2b73abcca229",
   "metadata": {},
   "source": [
    "[Read more about SHAP values](https://towardsdatascience.com/one-feature-attribution-method-to-supposedly-rule-them-all-shapley-values-f3e04534983d)"
   ]
  },
  {
   "cell_type": "markdown",
   "id": "7cbd34ae-b5b1-42c1-a652-abc5cf43445b",
   "metadata": {
    "jp-MarkdownHeadingCollapsed": true,
    "tags": []
   },
   "source": [
    "## Single value from Taxi dataset"
   ]
  },
  {
   "cell_type": "markdown",
   "id": "c460e8fa-f33b-457d-96e0-3bc2db9a4e52",
   "metadata": {},
   "source": [
    "### Get an example of flight from Los Angeles (KLAX) to Seattle (KSEA) that had 20min Taxi Out"
   ]
  },
  {
   "cell_type": "code",
   "execution_count": null,
   "id": "e6193e00-5233-4a29-b6ed-d5b0f10cb2ac",
   "metadata": {},
   "outputs": [],
   "source": [
    "example_to_check = X_val[\n",
    "    (X_val.OriginIcao == \"KLAX\") & (X_val.DestIcao == \"KSEA\") & (y_val == 20)\n",
    "][:1]\n",
    "example_to_check"
   ]
  },
  {
   "cell_type": "markdown",
   "id": "c5bbf780-04e6-4e69-b567-939025b84f58",
   "metadata": {},
   "source": [
    "### Load model into SHAP Explainer"
   ]
  },
  {
   "cell_type": "code",
   "execution_count": null,
   "id": "445aa526-8d97-4f63-85a0-e25cc3c0c90e",
   "metadata": {},
   "outputs": [],
   "source": [
    "# Code here"
   ]
  },
  {
   "cell_type": "markdown",
   "id": "1e0dfa56-2777-4c73-8362-9b57ba6b3327",
   "metadata": {},
   "source": [
    "### Generate & show SHAP values"
   ]
  },
  {
   "cell_type": "code",
   "execution_count": null,
   "id": "42d70853-d07a-493f-a13b-bd3fda48634d",
   "metadata": {},
   "outputs": [],
   "source": [
    "# Code here"
   ]
  },
  {
   "cell_type": "markdown",
   "id": "2a29cee0-d923-48a7-9588-d49c87b43634",
   "metadata": {},
   "source": [
    "### Visualize SHAP values with an additive force plot"
   ]
  },
  {
   "cell_type": "code",
   "execution_count": null,
   "id": "e6874a32-faa0-4ab7-b0b7-006de116d552",
   "metadata": {},
   "outputs": [],
   "source": [
    "# Code here"
   ]
  },
  {
   "cell_type": "markdown",
   "id": "f9546a2c-f0b3-4d14-819f-ab42dcc263f6",
   "metadata": {
    "jp-MarkdownHeadingCollapsed": true,
    "tags": []
   },
   "source": [
    "## Explaining Images with SHAP"
   ]
  },
  {
   "cell_type": "markdown",
   "id": "89027f97-32d6-4db7-89a6-01b32a28fc3c",
   "metadata": {
    "tags": []
   },
   "source": [
    "### Helper methods for PyTorch & ImageNet"
   ]
  },
  {
   "cell_type": "code",
   "execution_count": null,
   "id": "8cf0d643-10ed-4648-8465-a6be67a5ca32",
   "metadata": {},
   "outputs": [],
   "source": [
    "mean = [0.485, 0.456, 0.406]\n",
    "std = [0.229, 0.224, 0.225]\n",
    "\n",
    "def normalize(image):\n",
    "    if image.max() > 1:\n",
    "        image /= 255\n",
    "    image = (image - mean) / std\n",
    "    # in addition, roll the axis so that they suit pytorch\n",
    "    return torch.tensor(image.swapaxes(-1, 1).swapaxes(2, 3)).float()\n",
    "\n",
    "# load the ImageNet class names\n",
    "url = \"https://s3.amazonaws.com/deep-learning-models/image-models/imagenet_class_index.json\"\n",
    "fname = shap.datasets.cache(url)\n",
    "with open(fname) as f:\n",
    "    class_names = json.load(f)\n",
    "    \n",
    "def get_image_names(indexes):\n",
    "    return np.vectorize(lambda x: class_names[str(x)][1])(indexes)\n",
    "\n",
    "def adjust_shap_values(shap_values):\n",
    "    return [np.swapaxes(np.swapaxes(s, 2, 3), 1, -1) for s in shap_values]"
   ]
  },
  {
   "cell_type": "markdown",
   "id": "bf762d35-0532-4931-9cf4-63d7f07d1589",
   "metadata": {},
   "source": [
    "### Load samples from ImageNet50 dataset"
   ]
  },
  {
   "cell_type": "code",
   "execution_count": null,
   "id": "fa934cdb-9af1-4544-8158-10679af731c5",
   "metadata": {},
   "outputs": [],
   "source": [
    "image_X = shap.datasets.imagenet50()[0][[49, 31, 19, 2]] / 255\n",
    "normalized_X = normalize(image_X)"
   ]
  },
  {
   "cell_type": "markdown",
   "id": "4195f7f3-6869-49c3-8ddd-5375c1e8b39b",
   "metadata": {
    "execution": {
     "iopub.execute_input": "2022-05-14T15:19:04.552431Z",
     "iopub.status.busy": "2022-05-14T15:19:04.550608Z",
     "iopub.status.idle": "2022-05-14T15:19:04.562056Z",
     "shell.execute_reply": "2022-05-14T15:19:04.561171Z",
     "shell.execute_reply.started": "2022-05-14T15:19:04.552255Z"
    }
   },
   "source": [
    "### Show image samples"
   ]
  },
  {
   "cell_type": "code",
   "execution_count": null,
   "id": "0c8b7d28-be06-411b-85ad-223ca111ed6b",
   "metadata": {},
   "outputs": [],
   "source": [
    "# Code here\n"
   ]
  },
  {
   "cell_type": "markdown",
   "id": "38925df9-c638-41b0-9692-8da22b5cce1a",
   "metadata": {},
   "source": [
    "### Check model"
   ]
  },
  {
   "cell_type": "code",
   "execution_count": null,
   "id": "42c2a38d-9c23-4e2c-9cc8-3b6ccc4946bd",
   "metadata": {},
   "outputs": [],
   "source": [
    "# Code here\n"
   ]
  },
  {
   "cell_type": "markdown",
   "id": "d5a8d797-6992-4798-88b5-5ada7a3a715b",
   "metadata": {},
   "source": [
    "### Load last convolutional layer into GradientExplainer (use `normalized_X` for data parameter)"
   ]
  },
  {
   "cell_type": "code",
   "execution_count": null,
   "id": "51ad7877-6478-4e22-ba25-25a1305834c1",
   "metadata": {},
   "outputs": [],
   "source": [
    "# Code here\n"
   ]
  },
  {
   "cell_type": "markdown",
   "id": "c3126fc7-e5ce-4ee3-9a6b-ae49d71409c7",
   "metadata": {},
   "source": [
    "### Generate SHAP values"
   ]
  },
  {
   "cell_type": "code",
   "execution_count": null,
   "id": "25d20416-cab4-4b1c-9a7b-aca35f62e422",
   "metadata": {},
   "outputs": [],
   "source": [
    "# Code here\n"
   ]
  },
  {
   "cell_type": "markdown",
   "id": "c4b1bb98-d012-435e-b532-9ac0e476f530",
   "metadata": {
    "execution": {
     "iopub.execute_input": "2022-05-14T15:53:44.152308Z",
     "iopub.status.busy": "2022-05-14T15:53:44.151459Z",
     "iopub.status.idle": "2022-05-14T15:53:44.156898Z",
     "shell.execute_reply": "2022-05-14T15:53:44.155933Z",
     "shell.execute_reply.started": "2022-05-14T15:53:44.152272Z"
    }
   },
   "source": [
    "### Plot SHAP values"
   ]
  },
  {
   "cell_type": "code",
   "execution_count": null,
   "id": "88f3907c-87e8-4d3f-afc3-0fbc4a0bd94f",
   "metadata": {},
   "outputs": [],
   "source": [
    "# Code here\n"
   ]
  },
  {
   "cell_type": "markdown",
   "id": "05549f92-24cf-4027-a0a0-363e7fb49667",
   "metadata": {},
   "source": [
    "### Check what would happen if first or middle layer would be used"
   ]
  },
  {
   "cell_type": "code",
   "execution_count": null,
   "id": "6eaf1ac3-cdb8-4ae1-bcc2-367a1d602e34",
   "metadata": {},
   "outputs": [],
   "source": [
    "# Code here\n"
   ]
  },
  {
   "cell_type": "markdown",
   "id": "25aabd06-4ad2-4198-a07b-8a66edf6978d",
   "metadata": {
    "jp-MarkdownHeadingCollapsed": true,
    "tags": []
   },
   "source": [
    "## Explaining Text with SHAP"
   ]
  },
  {
   "cell_type": "markdown",
   "id": "fe3143ca-2634-46f4-9ad4-27ff819c4c8b",
   "metadata": {},
   "source": [
    "### Load emotion dataset"
   ]
  },
  {
   "cell_type": "code",
   "execution_count": null,
   "id": "54643123-5205-46e9-aae6-9ce3e8898a3b",
   "metadata": {},
   "outputs": [],
   "source": [
    "emotion_classes = [\"sadness\", \"joy\", \"love\", \"anger\", \"fear\", \"surprise\"]\n",
    "text_dataset = datasets.load_dataset(\"emotion\", split=\"train\")\n",
    "text_data = pd.DataFrame(\n",
    "    {\n",
    "        \"text\": text_dataset[\"text\"],\n",
    "        \"emotion\": [emotion_classes[el] for el in text_dataset[\"label\"]],\n",
    "    }\n",
    ")"
   ]
  },
  {
   "cell_type": "markdown",
   "id": "d6867597-813e-4f60-a514-416f7d34be6e",
   "metadata": {
    "execution": {
     "iopub.execute_input": "2022-05-14T15:19:04.552431Z",
     "iopub.status.busy": "2022-05-14T15:19:04.550608Z",
     "iopub.status.idle": "2022-05-14T15:19:04.562056Z",
     "shell.execute_reply": "2022-05-14T15:19:04.561171Z",
     "shell.execute_reply.started": "2022-05-14T15:19:04.552255Z"
    }
   },
   "source": [
    "### Show emotion dataset"
   ]
  },
  {
   "cell_type": "code",
   "execution_count": null,
   "id": "120a2867-2d13-410e-a4f9-bd8618c4070d",
   "metadata": {},
   "outputs": [],
   "source": [
    "# Code here\n"
   ]
  },
  {
   "cell_type": "markdown",
   "id": "3b747ae7-ab96-413d-b272-f1600caa0fed",
   "metadata": {},
   "source": [
    "### Check model"
   ]
  },
  {
   "cell_type": "code",
   "execution_count": null,
   "id": "6a7f663e-8bcb-4844-a265-ad08da736273",
   "metadata": {},
   "outputs": [],
   "source": [
    "# Code here\n"
   ]
  },
  {
   "cell_type": "markdown",
   "id": "2efa40ff-72a9-4bae-b7fb-a14c0e76f1cb",
   "metadata": {},
   "source": [
    "### Load model into Explainer"
   ]
  },
  {
   "cell_type": "code",
   "execution_count": null,
   "id": "04aabb63-a25a-42d8-af53-52ee0cee6390",
   "metadata": {},
   "outputs": [],
   "source": [
    "# Code here\n"
   ]
  },
  {
   "cell_type": "markdown",
   "id": "1eb587d0-2cc4-4bc8-8b8d-9c5d439d48e8",
   "metadata": {},
   "source": [
    "### Generate SHAP values for examples from each emotion"
   ]
  },
  {
   "cell_type": "code",
   "execution_count": null,
   "id": "9dbd1849-6b32-4c46-8c19-67d2a079b57a",
   "metadata": {},
   "outputs": [],
   "source": [
    "# Code here\n"
   ]
  },
  {
   "cell_type": "markdown",
   "id": "305d2ac7-5cd2-4208-82b3-fb852418be50",
   "metadata": {},
   "source": [
    "### Plot SHAP values"
   ]
  },
  {
   "cell_type": "code",
   "execution_count": null,
   "id": "ca944c19-961a-47a5-b759-10ec04f4ce06",
   "metadata": {},
   "outputs": [],
   "source": [
    "# Code here\n"
   ]
  }
 ],
 "metadata": {
  "kernelspec": {
   "display_name": "Python 3 (ipykernel)",
   "language": "python",
   "name": "python3"
  },
  "language_info": {
   "codemirror_mode": {
    "name": "ipython",
    "version": 3
   },
   "file_extension": ".py",
   "mimetype": "text/x-python",
   "name": "python",
   "nbconvert_exporter": "python",
   "pygments_lexer": "ipython3",
   "version": "3.9.12"
  }
 },
 "nbformat": 4,
 "nbformat_minor": 5
}
